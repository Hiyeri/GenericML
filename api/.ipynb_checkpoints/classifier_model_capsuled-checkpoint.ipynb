{
 "cells": [
  {
   "cell_type": "code",
   "execution_count": 117,
   "metadata": {},
   "outputs": [],
   "source": [
    "import os\n",
    "import numpy as np\n",
    "import pandas as pd\n",
    "import matplotlib.pyplot as plt\n",
    "import seaborn as sns\n",
    "import math\n",
    "\n",
    "from sklearn.model_selection import train_test_split\n",
    "from sklearn.ensemble import RandomForestRegressor, RandomForestClassifier\n",
    "from sklearn.metrics import accuracy_score, balanced_accuracy_score, r2_score, mean_squared_log_error\n",
    "from pandas.plotting import scatter_matrix\n",
    "from sklearn.experimental import enable_iterative_imputer\n",
    "from sklearn.impute import IterativeImputer\n",
    "from sklearn.impute import SimpleImputer\n",
    "from sklearn import preprocessing\n",
    "from sklearn.preprocessing import OrdinalEncoder, OneHotEncoder\n",
    "from sklearn.model_selection import RandomizedSearchCV, GridSearchCV\n",
    "\n",
    "from sklearn.feature_selection import SelectKBest, f_regression, chi2, f_classif"
   ]
  },
  {
   "cell_type": "code",
   "execution_count": 164,
   "metadata": {},
   "outputs": [],
   "source": [
    "def class_feature_selection_transformation(X, y, target, ordinal_feature):\n",
    "    \n",
    "    def num_feature_selection(X_num):\n",
    "        # feature selection on numerical data\n",
    "        k_num = round(len(X_num.columns) / 2)\n",
    "        fs = SelectKBest(f_classif, k_num)\n",
    "        fs.fit(X_num, y) # save!!\n",
    "        X_num_fs = fs.transform(X_num)\n",
    "        return X_num_fs\n",
    "        \n",
    "    def cat_feature_selection(X_cat, X_cat_enc):\n",
    "        # feature selection on categorical data\n",
    "        k_cat = round(len(X_cat.columns) / 2)\n",
    "        fs = SelectKBest(chi2, k_cat)\n",
    "        fs.fit(X_cat_enc, y) # save!!\n",
    "        X_cat_fs = fs.transform(X_cat_enc)\n",
    "        X_cat_enc = pd.DataFrame(X_cat_fs)\n",
    "        return X_cat_enc\n",
    "    \n",
    "    # split features\n",
    "    num_features = []\n",
    "    cat_features = []\n",
    "    for feature in X:\n",
    "        if X[feature].dtypes == np.int or X[feature].dtypes == np.float:\n",
    "            num_features.append(feature)\n",
    "        else:\n",
    "            cat_features.append(feature)\n",
    "    \n",
    "    X = X.reset_index()\n",
    "    \n",
    "    # impute using only numerical features\n",
    "    if num_features:\n",
    "        imp = IterativeImputer(max_iter = 10, random_state = 42)\n",
    "        imp.fit(X[num_features])\n",
    "        X[num_features] = imp.transform(X[num_features])\n",
    "        X_num = X.drop(cat_features, axis = 1)\n",
    "    \n",
    "    # impute using only categorical features\n",
    "    if cat_features:\n",
    "        imp = SimpleImputer(missing_values = np.nan, strategy = 'most_frequent')\n",
    "        X[cat_features] = imp.fit_transform(X[cat_features].astype(str))\n",
    "        X_cat = X.drop(num_features, axis = 1)\n",
    "        \n",
    "    # get column count\n",
    "    if num_features:\n",
    "        num_shape = X_num.shape[1]\n",
    "    \n",
    "    if cat_features:\n",
    "        cat_shape = X_cat.shape[1]\n",
    "    \n",
    "    # drop target\n",
    "    if target in X_num:\n",
    "        X_num = X_num.drop(target, axis = 1)\n",
    "    if target in X_cat:\n",
    "        X_cat = X_cat.drop(target, axis = 1)\n",
    "    \n",
    "    if num_features and not num_shape <= 10:\n",
    "        X_num = num_feature_selection(X_num)\n",
    "    \n",
    "    # encode ordinal features (dummy variables)\n",
    "    if ordinal_feature is not None:\n",
    "        ord_data = [ordinal_feature]\n",
    "        X_num = pd.get_dummies(X_num, columns = ord_data, drop_first = True)\n",
    "    \n",
    "    if cat_features:\n",
    "        enc = OrdinalEncoder()\n",
    "        enc.fit(X_cat)\n",
    "        X_cat_enc = enc.transform(X_cat)\n",
    "    \n",
    "    if cat_features and not cat_shape <= 10:\n",
    "        X_cat_enc = cat_feature_selection(X_cat, X_cat_enc)\n",
    "    \n",
    "    # concatenate numerical and categorical features\n",
    "    if num_features and cat_features:\n",
    "        df_cat = pd.DataFrame(X_cat_enc, index = list(range(len(X.index))))\n",
    "        df_num = pd.DataFrame(X_num, index = list(range(len(X.index))))\n",
    "        X = pd.concat([df_cat, df_num], axis = 1, sort = False)\n",
    "    elif cat_features:\n",
    "        X = pd.DataFrame(X_cat_enc)\n",
    "    elif num_features:\n",
    "        X = pd.DataFrame(X_num)\n",
    "    \n",
    "    return X"
   ]
  },
  {
   "cell_type": "code",
   "execution_count": 119,
   "metadata": {},
   "outputs": [],
   "source": [
    "def predict_randomforestclass(X, y):\n",
    "    # build the model (RandomForestClassifier)\n",
    "    X_train, X_test, y_train, y_test = train_test_split(X, y, random_state = 42)\n",
    "    \n",
    "    rf = RandomForestClassifier(n_estimators = 100, max_depth = None) \n",
    "    rf.fit(X_train, y_train)\n",
    "    \n",
    "    # quantifying the quality of prediction\n",
    "    y_predict = rf.predict(X_test)\n",
    "    acc_score = accuracy_score(y_test, y_predict)\n",
    "    \n",
    "    ret_stmt = 'Accuracy Score: ' + str(acc_score)\n",
    "    return ret_stmt"
   ]
  },
  {
   "cell_type": "code",
   "execution_count": 168,
   "metadata": {},
   "outputs": [],
   "source": [
    "def predict():\n",
    "    train_data = pd.read_csv(os.path.expanduser(\"~/Desktop/Projects/api/data/iris.csv\"))\n",
    "    \n",
    "    # select features and target variable\n",
    "    target = 'Species'\n",
    "    ordinal_feature = None\n",
    "    \n",
    "    features = list(train_data)\n",
    "    X = train_data[features]\n",
    "    y = train_data[target]\n",
    "    \n",
    "    # only for iris\n",
    "    X = X.drop('Id', axis = 1)\n",
    "\n",
    "    feature_engineering = class_feature_selection_transformation(X, y, target, ordinal_feature)\n",
    "    prediction = predict_randomforestclass(feature_engineering, y)\n",
    "    return prediction"
   ]
  },
  {
   "cell_type": "code",
   "execution_count": 169,
   "metadata": {},
   "outputs": [
    {
     "data": {
      "text/plain": [
       "'Accuracy Score: 1.0'"
      ]
     },
     "execution_count": 169,
     "metadata": {},
     "output_type": "execute_result"
    }
   ],
   "source": [
    "predict()"
   ]
  },
  {
   "cell_type": "code",
   "execution_count": null,
   "metadata": {},
   "outputs": [],
   "source": []
  },
  {
   "cell_type": "code",
   "execution_count": null,
   "metadata": {},
   "outputs": [],
   "source": []
  }
 ],
 "metadata": {
  "kernelspec": {
   "display_name": "Python 3",
   "language": "python",
   "name": "python3"
  },
  "language_info": {
   "codemirror_mode": {
    "name": "ipython",
    "version": 3
   },
   "file_extension": ".py",
   "mimetype": "text/x-python",
   "name": "python",
   "nbconvert_exporter": "python",
   "pygments_lexer": "ipython3",
   "version": "3.7.4"
  }
 },
 "nbformat": 4,
 "nbformat_minor": 4
}
