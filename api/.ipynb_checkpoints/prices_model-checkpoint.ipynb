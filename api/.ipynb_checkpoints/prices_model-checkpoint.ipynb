{
 "cells": [
  {
   "cell_type": "code",
   "execution_count": 757,
   "metadata": {},
   "outputs": [],
   "source": [
    "import os\n",
    "import numpy as np\n",
    "import pandas as pd\n",
    "import matplotlib.pyplot as plt\n",
    "import seaborn as sns\n",
    "import math\n",
    "\n",
    "from sklearn.model_selection import train_test_split\n",
    "from sklearn.ensemble import RandomForestRegressor\n",
    "from sklearn.metrics import accuracy_score, balanced_accuracy_score, r2_score, mean_squared_log_error\n",
    "from pandas.plotting import scatter_matrix\n",
    "from sklearn.experimental import enable_iterative_imputer\n",
    "from sklearn.impute import IterativeImputer\n",
    "from sklearn.impute import SimpleImputer\n",
    "from sklearn import preprocessing\n",
    "from sklearn.preprocessing import OrdinalEncoder, OneHotEncoder\n",
    "from sklearn.model_selection import RandomizedSearchCV, GridSearchCV\n",
    "\n",
    "from sklearn.feature_selection import SelectKBest, f_regression, chi2"
   ]
  },
  {
   "cell_type": "markdown",
   "metadata": {},
   "source": [
    "#### __1. Exploring the data__"
   ]
  },
  {
   "cell_type": "code",
   "execution_count": 758,
   "metadata": {},
   "outputs": [],
   "source": [
    "train_data = pd.read_csv(os.path.expanduser(\"~/Desktop/Projects/api/data/house-prices-advanced-regression-techniques/\" + \n",
    "                                            \"train.csv\"))"
   ]
  },
  {
   "cell_type": "code",
   "execution_count": 759,
   "metadata": {},
   "outputs": [],
   "source": [
    "# train_data.info()"
   ]
  },
  {
   "cell_type": "code",
   "execution_count": 760,
   "metadata": {},
   "outputs": [
    {
     "data": {
      "text/plain": [
       "5     397\n",
       "6     374\n",
       "7     319\n",
       "8     168\n",
       "4     116\n",
       "9      43\n",
       "3      20\n",
       "10     18\n",
       "2       3\n",
       "1       2\n",
       "Name: OverallQual, dtype: int64"
      ]
     },
     "execution_count": 760,
     "metadata": {},
     "output_type": "execute_result"
    }
   ],
   "source": [
    "train_data['OverallQual'].value_counts()"
   ]
  },
  {
   "cell_type": "markdown",
   "metadata": {},
   "source": [
    "#### __2. Dealing with missing values__"
   ]
  },
  {
   "cell_type": "code",
   "execution_count": 761,
   "metadata": {},
   "outputs": [],
   "source": [
    "features = list(train_data)\n",
    "X = train_data[features]\n",
    "y = train_data['SalePrice']"
   ]
  },
  {
   "cell_type": "code",
   "execution_count": 762,
   "metadata": {},
   "outputs": [],
   "source": [
    "# check for numeric features train_data\n",
    "num_features = []\n",
    "cat_features = []\n",
    "for feature in X:\n",
    "    if X[feature].dtypes == np.int or X[feature].dtypes == np.float:\n",
    "        num_features.append(feature)\n",
    "    else:\n",
    "        cat_features.append(feature)"
   ]
  },
  {
   "cell_type": "code",
   "execution_count": 763,
   "metadata": {},
   "outputs": [],
   "source": [
    "# impute using only numerical features\n",
    "imp = IterativeImputer(max_iter = 10, random_state = 42)\n",
    "imp.fit(X[num_features])\n",
    "X[num_features] = imp.transform(X[num_features])"
   ]
  },
  {
   "cell_type": "code",
   "execution_count": 764,
   "metadata": {},
   "outputs": [],
   "source": [
    "# impute using only categorical features\n",
    "imp = SimpleImputer(missing_values = np.nan, strategy = 'most_frequent')\n",
    "X[cat_features] = imp.fit_transform(X[cat_features].astype(str))"
   ]
  },
  {
   "cell_type": "code",
   "execution_count": 765,
   "metadata": {},
   "outputs": [],
   "source": [
    "# split dataframe into numeric and categorical data\n",
    "X_num = X.drop(cat_features, axis = 1)\n",
    "X_cat = X.drop(num_features, axis = 1)"
   ]
  },
  {
   "cell_type": "markdown",
   "metadata": {},
   "source": [
    "#### __3. Feature Selection__"
   ]
  },
  {
   "cell_type": "code",
   "execution_count": 766,
   "metadata": {},
   "outputs": [],
   "source": [
    "# saleprice correlation matrix\n",
    "k_num = round(len(X_num.columns) / 2)\n",
    "corrmat = X_num.corr()\n",
    "X_num_fs = corrmat.nlargest(k_num, 'SalePrice')['SalePrice'].index\n",
    "# plt.figure(figsize = (15, 15))\n",
    "# # plot heat map\n",
    "# g = sns.heatmap(X_num[X_num_fs].corr(),annot = True,cmap = \"RdYlGn\")"
   ]
  },
  {
   "cell_type": "code",
   "execution_count": 767,
   "metadata": {},
   "outputs": [
    {
     "name": "stdout",
     "output_type": "stream",
     "text": [
      "0 SalePrice\n",
      "1 OverallQual\n",
      "2 GrLivArea\n",
      "3 GarageCars\n",
      "4 GarageArea\n",
      "5 TotalBsmtSF\n",
      "6 1stFlrSF\n",
      "7 FullBath\n",
      "8 TotRmsAbvGrd\n",
      "9 YearBuilt\n",
      "10 GarageYrBlt\n",
      "11 YearRemodAdd\n",
      "12 MasVnrArea\n",
      "13 Fireplaces\n",
      "14 BsmtFinSF1\n",
      "15 LotFrontage\n",
      "16 WoodDeckSF\n",
      "17 2ndFlrSF\n",
      "18 OpenPorchSF\n"
     ]
    }
   ],
   "source": [
    "for i, feature in enumerate(X_num_fs):\n",
    "    print('{} {}'.format(i, feature))"
   ]
  },
  {
   "cell_type": "code",
   "execution_count": 768,
   "metadata": {},
   "outputs": [
    {
     "name": "stdout",
     "output_type": "stream",
     "text": [
      "YearBuilt: GarageYrBlt 0.8356304739037884\n",
      "TotalBsmtSF: 1stFlrSF 0.8195299750050355\n",
      "1stFlrSF: TotalBsmtSF 0.8195299750050355\n",
      "GrLivArea: TotRmsAbvGrd 0.8254893743088377\n",
      "TotRmsAbvGrd: GrLivArea 0.8254893743088377\n",
      "GarageYrBlt: YearBuilt 0.8356304739037884\n",
      "GarageCars: GarageArea 0.8824754142814603\n",
      "GarageArea: GarageCars 0.8824754142814603\n"
     ]
    }
   ],
   "source": [
    "# check for multicollinearity\n",
    "# if two features are strongly correlated with each other (>= 0.7) \n",
    "# the feature with the lower correlation with the target variable is dropped\n",
    "multicorr = {}\n",
    "k = len(corrmat)\n",
    "for feature in corrmat:\n",
    "    i = 1\n",
    "    if feature != 'SalePrice':\n",
    "        while i < k - 1:\n",
    "            if corrmat[feature][i] >= 0.7 and feature != corrmat.index[i]:\n",
    "                print('{}: {} {}'.format(feature, corrmat.index[i], corrmat[feature][i]))\n",
    "                multicorr[feature] = corrmat.index[i], corrmat[feature][i]\n",
    "            i = i + 1"
   ]
  },
  {
   "cell_type": "code",
   "execution_count": 769,
   "metadata": {},
   "outputs": [
    {
     "data": {
      "text/plain": [
       "{'YearBuilt': ('GarageYrBlt', 0.8356304739037884),\n",
       " 'TotalBsmtSF': ('1stFlrSF', 0.8195299750050355),\n",
       " 'GrLivArea': ('TotRmsAbvGrd', 0.8254893743088377),\n",
       " 'GarageCars': ('GarageArea', 0.8824754142814603)}"
      ]
     },
     "execution_count": 769,
     "metadata": {},
     "output_type": "execute_result"
    }
   ],
   "source": [
    "# delete duplicates\n",
    "corr_scores = []\n",
    "for feature in list(multicorr.keys()):\n",
    "    if multicorr[feature][1] in corr_scores:\n",
    "        del multicorr[feature]\n",
    "    else:\n",
    "        corr_scores.append(multicorr[feature][1])\n",
    "        \n",
    "multicorr"
   ]
  },
  {
   "cell_type": "code",
   "execution_count": 770,
   "metadata": {},
   "outputs": [
    {
     "data": {
      "text/plain": [
       "['GarageYrBlt', '1stFlrSF', 'TotRmsAbvGrd', 'GarageArea']"
      ]
     },
     "execution_count": 770,
     "metadata": {},
     "output_type": "execute_result"
    }
   ],
   "source": [
    "# remove the feature with the lower correlation coefficient (pearson)\n",
    "dropped_features = [] \n",
    "for feature1, feature2 in multicorr.items():\n",
    "    if corrmat['SalePrice'][feature1] < corrmat['SalePrice'][feature2[0]]:\n",
    "        dropped_features.append(feature1)\n",
    "    else:\n",
    "        dropped_features.append(feature2[0])\n",
    "\n",
    "dropped_features"
   ]
  },
  {
   "cell_type": "code",
   "execution_count": 771,
   "metadata": {},
   "outputs": [
    {
     "name": "stdout",
     "output_type": "stream",
     "text": [
      "SalePrice, YearBuilt: 0.5228973328794967\n",
      "SalePrice, GarageYrBlt: 0.5188878777720517\n",
      "SalePrice, TotalBsmtSF: 0.6135805515591944\n",
      "SalePrice, 1stFlrSF: 0.6058521846919166\n",
      "SalePrice, GrLivArea: 0.7086244776126511\n",
      "SalePrice, TotRmsAbvGrd: 0.5337231555820238\n",
      "SalePrice, GarageCars: 0.640409197258349\n",
      "SalePrice, GarageArea: 0.6234314389183598\n"
     ]
    }
   ],
   "source": [
    "print('SalePrice, YearBuilt: {}'.format(corrmat['SalePrice']['YearBuilt']))\n",
    "print('SalePrice, GarageYrBlt: {}'.format(corrmat['SalePrice']['GarageYrBlt']))\n",
    "print('SalePrice, TotalBsmtSF: {}'.format(corrmat['SalePrice']['TotalBsmtSF']))\n",
    "print('SalePrice, 1stFlrSF: {}'.format(corrmat['SalePrice']['1stFlrSF']))\n",
    "print('SalePrice, GrLivArea: {}'.format(corrmat['SalePrice']['GrLivArea']))\n",
    "print('SalePrice, TotRmsAbvGrd: {}'.format(corrmat['SalePrice']['TotRmsAbvGrd']))\n",
    "print('SalePrice, GarageCars: {}'.format(corrmat['SalePrice']['GarageCars']))\n",
    "print('SalePrice, GarageArea: {}'.format(corrmat['SalePrice']['GarageArea']))"
   ]
  },
  {
   "cell_type": "code",
   "execution_count": 772,
   "metadata": {},
   "outputs": [],
   "source": [
    "# drop the features from X_num dataframe\n",
    "for feature in X_num:\n",
    "    if feature in dropped_features:\n",
    "        X_num = X_num.drop(feature, axis = 1)"
   ]
  },
  {
   "cell_type": "code",
   "execution_count": 773,
   "metadata": {},
   "outputs": [
    {
     "data": {
      "text/plain": [
       "['GarageYrBlt', '1stFlrSF', 'TotRmsAbvGrd', 'GarageArea']"
      ]
     },
     "execution_count": 773,
     "metadata": {},
     "output_type": "execute_result"
    }
   ],
   "source": [
    "drop_multicoll_features = dropped_features\n",
    "drop_multicoll_features"
   ]
  },
  {
   "cell_type": "code",
   "execution_count": 774,
   "metadata": {},
   "outputs": [],
   "source": [
    "drop_corr_features = X_num.columns.difference(X_num_fs)"
   ]
  },
  {
   "cell_type": "code",
   "execution_count": 775,
   "metadata": {},
   "outputs": [],
   "source": [
    "X_num.drop(X_num.columns.difference(X_num_fs), 1, inplace = True)"
   ]
  },
  {
   "cell_type": "code",
   "execution_count": 776,
   "metadata": {},
   "outputs": [],
   "source": [
    "ord_data = ['OverallQual']\n",
    "X_num = pd.get_dummies(X_num, columns = ord_data, drop_first = True)"
   ]
  },
  {
   "cell_type": "code",
   "execution_count": 777,
   "metadata": {},
   "outputs": [],
   "source": [
    "# encoding categorical features\n",
    "enc = OrdinalEncoder()\n",
    "enc.fit(X_cat)\n",
    "X_cat_enc = enc.transform(X_cat)"
   ]
  },
  {
   "cell_type": "code",
   "execution_count": 778,
   "metadata": {},
   "outputs": [
    {
     "name": "stderr",
     "output_type": "stream",
     "text": [
      "/opt/anaconda3/lib/python3.7/site-packages/sklearn/utils/validation.py:71: FutureWarning: Pass k=22 as keyword args. From version 0.25 passing these as positional arguments will result in an error\n",
      "  FutureWarning)\n"
     ]
    }
   ],
   "source": [
    "# feature selection on categorical data\n",
    "k_cat = round(len(X_cat.columns) / 2)\n",
    "fs = SelectKBest(f_regression, k_cat)\n",
    "fs.fit(X_cat_enc, y) # save!!\n",
    "X_cat_fs = fs.transform(X_cat_enc)\n",
    "X_cat_enc = pd.DataFrame(X_cat_fs)"
   ]
  },
  {
   "cell_type": "code",
   "execution_count": 779,
   "metadata": {},
   "outputs": [],
   "source": [
    "# for i in range(len(fs.scores_)):\n",
    "#\tprint('Feature %d: %f' % (i, fs.scores_[i]))"
   ]
  },
  {
   "cell_type": "code",
   "execution_count": 780,
   "metadata": {},
   "outputs": [],
   "source": [
    "df_cat = pd.DataFrame(X_cat_enc, index = list(range(len(X.index))))\n",
    "df_num = pd.DataFrame(X_num, index = list(range(len(X.index))))"
   ]
  },
  {
   "cell_type": "code",
   "execution_count": 781,
   "metadata": {},
   "outputs": [
    {
     "data": {
      "text/plain": [
       "3"
      ]
     },
     "execution_count": 781,
     "metadata": {},
     "output_type": "execute_result"
    }
   ],
   "source": [
    "df_num.index[3]"
   ]
  },
  {
   "cell_type": "code",
   "execution_count": 782,
   "metadata": {},
   "outputs": [],
   "source": [
    "X = pd.concat([df_cat, df_num], axis = 1, sort = False)\n",
    "X = X.drop(['SalePrice'], axis = 1)"
   ]
  },
  {
   "cell_type": "markdown",
   "metadata": {},
   "source": [
    "#### __4. Building the model__"
   ]
  },
  {
   "cell_type": "code",
   "execution_count": 783,
   "metadata": {},
   "outputs": [],
   "source": [
    "X_train, X_test, y_train, y_test = train_test_split(X, y, random_state = 42)"
   ]
  },
  {
   "cell_type": "code",
   "execution_count": 784,
   "metadata": {},
   "outputs": [],
   "source": [
    "# hyperparameter tuning\n",
    "n_estimators = [int(x) for x in np.linspace(start = 200, stop = 2000, num = 10)]\n",
    "# Number of features to consider at every split\n",
    "max_features = ['auto', 'sqrt', 'log2']\n",
    "# Maximum number of levels in tree\n",
    "max_depth = [int(x) for x in np.linspace(10, 110, num = 11)]\n",
    "max_depth.append(None)\n",
    "# Minimum number of samples required to split a node\n",
    "min_samples_split = [2, 5, 10]\n",
    "# Minimum number of samples required at each leaf node\n",
    "min_samples_leaf = [1, 2, 4]\n",
    "# Method of selecting samples for training each tree\n",
    "bootstrap = [True, False]"
   ]
  },
  {
   "cell_type": "code",
   "execution_count": 785,
   "metadata": {},
   "outputs": [],
   "source": [
    "# Create the random grid\n",
    "rf_random_grid = {'n_estimators': n_estimators,\n",
    "               'max_features': max_features,\n",
    "               'max_depth': max_depth,\n",
    "               'min_samples_split': min_samples_split,\n",
    "               'min_samples_leaf': min_samples_leaf,\n",
    "               'bootstrap': bootstrap}"
   ]
  },
  {
   "cell_type": "code",
   "execution_count": 786,
   "metadata": {},
   "outputs": [],
   "source": [
    "# rand_rf = RandomForestRegressor()\n",
    "# rf_random = RandomizedSearchCV(estimator = rand_rf, param_distributions = random_grid, \n",
    "#                               n_iter = 100, cv = 7, verbose = 2, n_jobs = -1, random_state = 42)\n",
    "# rf_random.fit(X_train, y_train)"
   ]
  },
  {
   "cell_type": "code",
   "execution_count": 787,
   "metadata": {},
   "outputs": [],
   "source": [
    "# rf_random.best_params_"
   ]
  },
  {
   "cell_type": "code",
   "execution_count": 788,
   "metadata": {},
   "outputs": [
    {
     "data": {
      "text/plain": [
       "RandomForestRegressor(bootstrap=False, max_depth=70, max_features='log2',\n",
       "                      n_estimators=800)"
      ]
     },
     "execution_count": 788,
     "metadata": {},
     "output_type": "execute_result"
    }
   ],
   "source": [
    "rf = RandomForestRegressor(n_estimators = 800, min_samples_split = 2, min_samples_leaf = 1, \n",
    "      max_features = 'log2', max_depth = 70, bootstrap = False)\n",
    "rf.fit(X_train, y_train)"
   ]
  },
  {
   "cell_type": "markdown",
   "metadata": {},
   "source": [
    "#### __5. Quantifying the quality of prediction____"
   ]
  },
  {
   "cell_type": "code",
   "execution_count": 789,
   "metadata": {},
   "outputs": [],
   "source": [
    "y_predict = rf.predict(X_test)"
   ]
  },
  {
   "cell_type": "code",
   "execution_count": 790,
   "metadata": {},
   "outputs": [
    {
     "name": "stdout",
     "output_type": "stream",
     "text": [
      "R2 Score:  0.8847388626254171\n",
      "RMSLE 0.14854480728612116\n"
     ]
    }
   ],
   "source": [
    "print(\"R2 Score: \", r2_score(y_test, y_predict))\n",
    "print(\"RMSLE\", math.sqrt(mean_squared_log_error(y_test, y_predict)))"
   ]
  },
  {
   "cell_type": "markdown",
   "metadata": {},
   "source": [
    "#### __6. Submission (Kaggle)__"
   ]
  },
  {
   "cell_type": "code",
   "execution_count": 791,
   "metadata": {},
   "outputs": [],
   "source": [
    "test_data = pd.read_csv(os.path.expanduser(\"~/Desktop/Projects/api/data/house-prices-advanced-regression-techniques/\" + \n",
    "                                            \"test.csv\"))"
   ]
  },
  {
   "cell_type": "code",
   "execution_count": 792,
   "metadata": {},
   "outputs": [],
   "source": [
    "def submission(df, fs, drop_multicoll_features, drop_corr_features):\n",
    "    features = list(df)\n",
    "    X = df[features]\n",
    "    \n",
    "    # check for numeric features train_data\n",
    "    num_features = []\n",
    "    cat_features = []\n",
    "    for feature in X:\n",
    "        if X[feature].dtypes == np.int or X[feature].dtypes == np.float:\n",
    "            num_features.append(feature)\n",
    "        else:\n",
    "            cat_features.append(feature)\n",
    "            \n",
    "    # impute using only numerical features\n",
    "    imp = IterativeImputer(max_iter = 10, random_state = 42)\n",
    "    imp.fit(X[num_features])\n",
    "    X[num_features] = imp.transform(X[num_features])\n",
    "    \n",
    "    # impute using only categorical features\n",
    "    imp = SimpleImputer(strategy = 'most_frequent')\n",
    "    X[cat_features] = imp.fit_transform(X[cat_features])\n",
    "    \n",
    "    # split dataframe into numeric and categorical data\n",
    "    X_num = X.drop(cat_features, axis = 1)\n",
    "    X_cat = X.drop(num_features, axis = 1)\n",
    "    \n",
    "    # drop features\n",
    "    X_num = X_num.drop(drop_multicoll_features, axis = 1) \n",
    "    X_num.drop(drop_corr_features, 1, inplace = True)\n",
    "        \n",
    "    ord_data = ['OverallQual']\n",
    "    X_num = pd.get_dummies(X_num, columns = ord_data, drop_first = True)\n",
    "    \n",
    "    # encoding categorical features\n",
    "    enc = OrdinalEncoder()\n",
    "    enc.fit(X_cat)\n",
    "    X_cat_enc = enc.transform(X_cat)\n",
    "    \n",
    "    # feature selection on categorical data\n",
    "    k_cat = round(len(X_cat.columns) / 2)\n",
    "    X_cat_fs = fs.transform(X_cat_enc)\n",
    "    X_cat_enc = pd.DataFrame(X_cat_fs)\n",
    "    \n",
    "    df_cat = pd.DataFrame(X_cat_enc, index = list(range(len(X.index))))\n",
    "    df_num = pd.DataFrame(X_num, index = list(range(len(X.index))))\n",
    "    \n",
    "    X = pd.concat([df_cat, df_num], axis = 1, sort = False)\n",
    "    \n",
    "    return X"
   ]
  },
  {
   "cell_type": "code",
   "execution_count": 793,
   "metadata": {},
   "outputs": [],
   "source": [
    "y_predict = rf.predict(submission(test_data, fs, drop_multicoll_features, drop_corr_features))"
   ]
  },
  {
   "cell_type": "code",
   "execution_count": 794,
   "metadata": {},
   "outputs": [
    {
     "data": {
      "text/html": [
       "<div>\n",
       "<style scoped>\n",
       "    .dataframe tbody tr th:only-of-type {\n",
       "        vertical-align: middle;\n",
       "    }\n",
       "\n",
       "    .dataframe tbody tr th {\n",
       "        vertical-align: top;\n",
       "    }\n",
       "\n",
       "    .dataframe thead th {\n",
       "        text-align: right;\n",
       "    }\n",
       "</style>\n",
       "<table border=\"1\" class=\"dataframe\">\n",
       "  <thead>\n",
       "    <tr style=\"text-align: right;\">\n",
       "      <th></th>\n",
       "      <th>Id</th>\n",
       "      <th>SalePrice</th>\n",
       "    </tr>\n",
       "  </thead>\n",
       "  <tbody>\n",
       "    <tr>\n",
       "      <th>count</th>\n",
       "      <td>1459.000000</td>\n",
       "      <td>1459.000000</td>\n",
       "    </tr>\n",
       "    <tr>\n",
       "      <th>mean</th>\n",
       "      <td>2190.000000</td>\n",
       "      <td>186628.632954</td>\n",
       "    </tr>\n",
       "    <tr>\n",
       "      <th>std</th>\n",
       "      <td>421.321334</td>\n",
       "      <td>70854.602848</td>\n",
       "    </tr>\n",
       "    <tr>\n",
       "      <th>min</th>\n",
       "      <td>1461.000000</td>\n",
       "      <td>85439.748750</td>\n",
       "    </tr>\n",
       "    <tr>\n",
       "      <th>25%</th>\n",
       "      <td>1825.500000</td>\n",
       "      <td>137401.334375</td>\n",
       "    </tr>\n",
       "    <tr>\n",
       "      <th>50%</th>\n",
       "      <td>2190.000000</td>\n",
       "      <td>164919.410000</td>\n",
       "    </tr>\n",
       "    <tr>\n",
       "      <th>75%</th>\n",
       "      <td>2554.500000</td>\n",
       "      <td>214425.745000</td>\n",
       "    </tr>\n",
       "    <tr>\n",
       "      <th>max</th>\n",
       "      <td>2919.000000</td>\n",
       "      <td>493556.756250</td>\n",
       "    </tr>\n",
       "  </tbody>\n",
       "</table>\n",
       "</div>"
      ],
      "text/plain": [
       "                Id      SalePrice\n",
       "count  1459.000000    1459.000000\n",
       "mean   2190.000000  186628.632954\n",
       "std     421.321334   70854.602848\n",
       "min    1461.000000   85439.748750\n",
       "25%    1825.500000  137401.334375\n",
       "50%    2190.000000  164919.410000\n",
       "75%    2554.500000  214425.745000\n",
       "max    2919.000000  493556.756250"
      ]
     },
     "execution_count": 794,
     "metadata": {},
     "output_type": "execute_result"
    }
   ],
   "source": [
    "output = pd.DataFrame({'Id': test_data.Id, 'SalePrice': y_predict})\n",
    "output.describe()"
   ]
  },
  {
   "cell_type": "code",
   "execution_count": 795,
   "metadata": {},
   "outputs": [
    {
     "name": "stdout",
     "output_type": "stream",
     "text": [
      "Successful\n"
     ]
    }
   ],
   "source": [
    "output.to_csv('data/house_submission.csv', index = False)\n",
    "print(\"Successful\")"
   ]
  },
  {
   "cell_type": "code",
   "execution_count": null,
   "metadata": {},
   "outputs": [],
   "source": []
  }
 ],
 "metadata": {
  "kernelspec": {
   "display_name": "Python 3",
   "language": "python",
   "name": "python3"
  },
  "language_info": {
   "codemirror_mode": {
    "name": "ipython",
    "version": 3
   },
   "file_extension": ".py",
   "mimetype": "text/x-python",
   "name": "python",
   "nbconvert_exporter": "python",
   "pygments_lexer": "ipython3",
   "version": "3.7.4"
  }
 },
 "nbformat": 4,
 "nbformat_minor": 4
}
